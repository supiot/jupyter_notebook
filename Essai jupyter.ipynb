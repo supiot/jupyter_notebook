{
 "cells": [
  {
   "cell_type": "raw",
   "metadata": {},
   "source": [
    "#Titre\n",
    "##Sous titre"
   ]
  },
  {
   "cell_type": "raw",
   "metadata": {},
   "source": [
    "Création d'un tableau numpy :"
   ]
  },
  {
   "cell_type": "code",
   "execution_count": 2,
   "metadata": {},
   "outputs": [
    {
     "name": "stdout",
     "output_type": "stream",
     "text": [
      "[1. 2. 3. 4. 5.]\n"
     ]
    }
   ],
   "source": [
    "import numpy as np\n",
    "A=np.linspace(1,5,5)\n",
    "print(A)"
   ]
  },
  {
   "cell_type": "raw",
   "metadata": {},
   "source": [
    "C'est cool ça marche!"
   ]
  },
  {
   "cell_type": "raw",
   "metadata": {},
   "source": [
    "Création d'un graphique :"
   ]
  },
  {
   "cell_type": "code",
   "execution_count": 3,
   "metadata": {},
   "outputs": [
    {
     "data": {
      "text/plain": [
       "<Figure size 640x480 with 1 Axes>"
      ]
     },
     "metadata": {},
     "output_type": "display_data"
    }
   ],
   "source": [
    "import matplotlib.pyplot as plt\n",
    "import numpy as np\n",
    "\n",
    "def f(a,b,xp,yp,x,y):\n",
    "    return a*np.exp(-b*((x-xp)**2+(y-yp)**2))\n",
    "\n",
    "x , y = np.meshgrid(np.linspace(-2,2,20),np.linspace(-2,2,20))\n",
    "r=np.sqrt(x**2+y**2)\n",
    "\n",
    "U=5\n",
    "a=0.5\n",
    "\n",
    "vx=-U*(1-(a/r)**2)*(x/r)**2-U*(1+(a/r)**2)*(y/r)**2\n",
    "vy=(U*(1+(a/r)**2)-U*(1-(a/r)**2))*(y/r)*(x/r)\n",
    "\n",
    "v=np.sqrt(vx**2+vy**2)\n",
    "\n",
    "vx=vx/v\n",
    "vy=vy/v\n",
    "\n",
    "fig, ax = plt.subplots()\n",
    "plt.axis('equal')\n",
    "cs = plt.contourf(x, y, v, 100,cmap='jet')\n",
    "\n",
    "plt.quiver(x,y,vx,vy,width=0.002)\n",
    "\n",
    "#plt.colorbar(cs)\n",
    "circle1 = plt.Circle((0, 0), 0.5, color='r')\n",
    "ax.add_artist(circle1)\n",
    "\n",
    "plt.show()"
   ]
  },
  {
   "cell_type": "raw",
   "metadata": {},
   "source": [
    "Ca semble marcher..."
   ]
  },
  {
   "cell_type": "code",
   "execution_count": null,
   "metadata": {},
   "outputs": [],
   "source": []
  }
 ],
 "metadata": {
  "kernelspec": {
   "display_name": "Python 3",
   "language": "python",
   "name": "python3"
  },
  "language_info": {
   "codemirror_mode": {
    "name": "ipython",
    "version": 3
   },
   "file_extension": ".py",
   "mimetype": "text/x-python",
   "name": "python",
   "nbconvert_exporter": "python",
   "pygments_lexer": "ipython3",
   "version": "3.7.2"
  }
 },
 "nbformat": 4,
 "nbformat_minor": 2
}
